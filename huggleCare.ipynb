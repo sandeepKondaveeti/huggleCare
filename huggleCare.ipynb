{
 "cells": [
  {
   "cell_type": "markdown",
   "id": "72e9e41d",
   "metadata": {},
   "source": [
    "## DataSet"
   ]
  },
  {
   "cell_type": "code",
   "execution_count": 34,
   "id": "ddecfeac",
   "metadata": {},
   "outputs": [],
   "source": [
    "import pandas as pd\n",
    "import math\n",
    "import numpy as np\n",
    "\n",
    "from sklearn.preprocessing import OneHotEncoder\n",
    "from sklearn.preprocessing import LabelBinarizer\n",
    "from sklearn.linear_model import LogisticRegression\n",
    "from sklearn.metrics import plot_roc_curve, roc_auc_score, roc_curve\n",
    "\n",
    "import matplotlib.pyplot as plt\n",
    "from matplotlib.lines import Line2D\n",
    "from sklearn.metrics import roc_auc_score\n",
    "from sklearn.preprocessing import binarize\n",
    "from sklearn import metrics\n",
    "from sklearn.ensemble import AdaBoostClassifier, GradientBoostingClassifier, RandomForestClassifier, BaggingClassifier\n",
    "from sklearn import preprocessing\n",
    "from sklearn.naive_bayes import GaussianNB\n",
    "from sklearn.neighbors import KNeighborsClassifier\n",
    "from sklearn.preprocessing import LabelEncoder\n",
    "from sklearn import svm\n",
    "from sklearn import tree\n",
    "from sklearn.model_selection import GridSearchCV, RandomizedSearchCV\n",
    "import pandas as pd\n",
    "from sklearn.linear_model import LogisticRegression\n",
    "from sklearn.metrics import classification_report , confusion_matrix\n",
    "from sklearn.model_selection import cross_val_score\n",
    "import collections"
   ]
  },
  {
   "cell_type": "code",
   "execution_count": 2,
   "id": "c28b810c",
   "metadata": {},
   "outputs": [
    {
     "name": "stderr",
     "output_type": "stream",
     "text": [
      "/home/sundeepk/.local/lib/python3.8/site-packages/IPython/core/interactiveshell.py:3169: DtypeWarning: Columns (1,2,3,4,5) have mixed types.Specify dtype option on import or set low_memory=False.\n",
      "  has_raised = await self.run_ast_nodes(code_ast.body, cell_name,\n"
     ]
    },
    {
     "data": {
      "text/plain": [
       "(278848, 10)"
      ]
     },
     "execution_count": 2,
     "metadata": {},
     "output_type": "execute_result"
    }
   ],
   "source": [
    "df = pd.read_csv('/home/sundeepk/Downloads/corona_tested_individuals_ver_006.english.csv')\n",
    "\n",
    "df.shape"
   ]
  },
  {
   "cell_type": "code",
   "execution_count": 3,
   "id": "51d859fe",
   "metadata": {},
   "outputs": [
    {
     "data": {
      "text/html": [
       "<div>\n",
       "<style scoped>\n",
       "    .dataframe tbody tr th:only-of-type {\n",
       "        vertical-align: middle;\n",
       "    }\n",
       "\n",
       "    .dataframe tbody tr th {\n",
       "        vertical-align: top;\n",
       "    }\n",
       "\n",
       "    .dataframe thead th {\n",
       "        text-align: right;\n",
       "    }\n",
       "</style>\n",
       "<table border=\"1\" class=\"dataframe\">\n",
       "  <thead>\n",
       "    <tr style=\"text-align: right;\">\n",
       "      <th></th>\n",
       "      <th>test_date</th>\n",
       "      <th>cough</th>\n",
       "      <th>fever</th>\n",
       "      <th>sore_throat</th>\n",
       "      <th>shortness_of_breath</th>\n",
       "      <th>head_ache</th>\n",
       "      <th>corona_result</th>\n",
       "      <th>age_60_and_above</th>\n",
       "      <th>gender</th>\n",
       "      <th>test_indication</th>\n",
       "    </tr>\n",
       "  </thead>\n",
       "  <tbody>\n",
       "    <tr>\n",
       "      <th>0</th>\n",
       "      <td>2020-04-30</td>\n",
       "      <td>0</td>\n",
       "      <td>0</td>\n",
       "      <td>0</td>\n",
       "      <td>0</td>\n",
       "      <td>0</td>\n",
       "      <td>negative</td>\n",
       "      <td>None</td>\n",
       "      <td>female</td>\n",
       "      <td>Other</td>\n",
       "    </tr>\n",
       "    <tr>\n",
       "      <th>1</th>\n",
       "      <td>2020-04-30</td>\n",
       "      <td>1</td>\n",
       "      <td>0</td>\n",
       "      <td>0</td>\n",
       "      <td>0</td>\n",
       "      <td>0</td>\n",
       "      <td>negative</td>\n",
       "      <td>None</td>\n",
       "      <td>female</td>\n",
       "      <td>Other</td>\n",
       "    </tr>\n",
       "    <tr>\n",
       "      <th>2</th>\n",
       "      <td>2020-04-30</td>\n",
       "      <td>0</td>\n",
       "      <td>1</td>\n",
       "      <td>0</td>\n",
       "      <td>0</td>\n",
       "      <td>0</td>\n",
       "      <td>negative</td>\n",
       "      <td>None</td>\n",
       "      <td>male</td>\n",
       "      <td>Other</td>\n",
       "    </tr>\n",
       "    <tr>\n",
       "      <th>3</th>\n",
       "      <td>2020-04-30</td>\n",
       "      <td>1</td>\n",
       "      <td>0</td>\n",
       "      <td>0</td>\n",
       "      <td>0</td>\n",
       "      <td>0</td>\n",
       "      <td>negative</td>\n",
       "      <td>None</td>\n",
       "      <td>female</td>\n",
       "      <td>Other</td>\n",
       "    </tr>\n",
       "    <tr>\n",
       "      <th>4</th>\n",
       "      <td>2020-04-30</td>\n",
       "      <td>1</td>\n",
       "      <td>0</td>\n",
       "      <td>0</td>\n",
       "      <td>0</td>\n",
       "      <td>0</td>\n",
       "      <td>negative</td>\n",
       "      <td>None</td>\n",
       "      <td>male</td>\n",
       "      <td>Other</td>\n",
       "    </tr>\n",
       "  </tbody>\n",
       "</table>\n",
       "</div>"
      ],
      "text/plain": [
       "    test_date cough fever sore_throat shortness_of_breath head_ache  \\\n",
       "0  2020-04-30     0     0           0                   0         0   \n",
       "1  2020-04-30     1     0           0                   0         0   \n",
       "2  2020-04-30     0     1           0                   0         0   \n",
       "3  2020-04-30     1     0           0                   0         0   \n",
       "4  2020-04-30     1     0           0                   0         0   \n",
       "\n",
       "  corona_result age_60_and_above  gender test_indication  \n",
       "0      negative             None  female           Other  \n",
       "1      negative             None  female           Other  \n",
       "2      negative             None    male           Other  \n",
       "3      negative             None  female           Other  \n",
       "4      negative             None    male           Other  "
      ]
     },
     "execution_count": 3,
     "metadata": {},
     "output_type": "execute_result"
    }
   ],
   "source": [
    "df.head()"
   ]
  },
  {
   "cell_type": "code",
   "execution_count": 4,
   "id": "fc9b4233",
   "metadata": {},
   "outputs": [],
   "source": [
    "df['test_date'] = pd.to_datetime(df['test_date'])"
   ]
  },
  {
   "cell_type": "markdown",
   "id": "a70eb770",
   "metadata": {},
   "source": [
    "## Descriptive Analysis"
   ]
  },
  {
   "cell_type": "code",
   "execution_count": 5,
   "id": "40c5aa93",
   "metadata": {},
   "outputs": [
    {
     "data": {
      "text/plain": [
       "negative    260227\n",
       "positive     14729\n",
       "other         3892\n",
       "Name: corona_result, dtype: int64"
      ]
     },
     "execution_count": 5,
     "metadata": {},
     "output_type": "execute_result"
    }
   ],
   "source": [
    "df['corona_result'].value_counts()"
   ]
  },
  {
   "cell_type": "code",
   "execution_count": 6,
   "id": "5a4e8022",
   "metadata": {},
   "outputs": [],
   "source": [
    "def disease_result(response):\n",
    "    if response=='positive':\n",
    "        return \"COVID\"\n",
    "    else:\n",
    "        return \"Malaria\""
   ]
  },
  {
   "cell_type": "code",
   "execution_count": 7,
   "id": "3d60d258",
   "metadata": {},
   "outputs": [
    {
     "name": "stdout",
     "output_type": "stream",
     "text": [
      "start time:  2021-11-14 23:32:12.591412\n",
      "Duration: 0:00:00.052737\n"
     ]
    }
   ],
   "source": [
    "from datetime import datetime\n",
    "\n",
    "start_time = datetime.now()\n",
    "print('start time: ', start_time)\n",
    "\n",
    "\n",
    "df['disease_result'] = df['corona_result'].apply(disease_result)\n",
    "\n",
    "end_time = datetime.now()\n",
    "print('Duration: {}'.format(end_time - start_time))"
   ]
  },
  {
   "cell_type": "markdown",
   "id": "f2420218",
   "metadata": {},
   "source": [
    "## Exploratory Data Analysis"
   ]
  },
  {
   "cell_type": "code",
   "execution_count": 8,
   "id": "6eaac5d3",
   "metadata": {},
   "outputs": [
    {
     "data": {
      "text/plain": [
       "Malaria    264119\n",
       "COVID       14729\n",
       "Name: disease_result, dtype: int64"
      ]
     },
     "execution_count": 8,
     "metadata": {},
     "output_type": "execute_result"
    }
   ],
   "source": [
    "df['disease_result'].value_counts()"
   ]
  },
  {
   "cell_type": "code",
   "execution_count": 9,
   "id": "18a11183",
   "metadata": {},
   "outputs": [
    {
     "name": "stdout",
     "output_type": "stream",
     "text": [
      "Start date: 2020-03-11 00:00:00\n",
      "End date: 2020-04-30 00:00:00\n",
      "# of days:  50\n",
      "# of observations: 278848\n",
      "# of features: 11\n",
      "# of COVID diagnosed cases: 14729 ( 5.28%)\n",
      "# of Malaria diagnosed cases: 264119 ( 94.72%)\n"
     ]
    }
   ],
   "source": [
    "print(\"Start date:\", min(df['test_date']))\n",
    "print(\"End date:\", max(df['test_date']))\n",
    "\n",
    "n_days = (max(df['test_date']) - min(df['test_date'])).days\n",
    "print(\"# of days: \", n_days)\n",
    "\n",
    "n_obs =  df.shape[0]\n",
    "print(\"# of observations:\", df.shape[0])\n",
    "print(\"# of features:\", df.shape[1])\n",
    "\n",
    "covid_cases = sum(df['disease_result'] == \"COVID\")\n",
    "print(\"# of COVID diagnosed cases: {0} ({1: 2.2f}%)\".format(covid_cases, 100*covid_cases / n_obs))\n",
    "\n",
    "malaria_cases = sum(df['disease_result'] == \"Malaria\")\n",
    "print(\"# of Malaria diagnosed cases: {0} ({1: 2.2f}%)\".format(malaria_cases, 100 * malaria_cases / n_obs))\n",
    "\n",
    "# other_cases = sum(df['corona_result'] == \"other\") # possibly not confirmed\n",
    "# print(\"# of other cases (possibly, not confirmed): {0} ({1: 2.2f}%)\".format(other_cases, 100 * other_cases / n_obs))"
   ]
  },
  {
   "cell_type": "code",
   "execution_count": 10,
   "id": "45dea6e0",
   "metadata": {},
   "outputs": [],
   "source": [
    "date_counts = df.groupby(['test_date']).count()['gender']\n",
    "date_counts = date_counts.sort_index()\n",
    "cum_counts = date_counts.cumsum()\n",
    "count = cum_counts / n_obs"
   ]
  },
  {
   "cell_type": "code",
   "execution_count": 11,
   "id": "7d4f3d8b",
   "metadata": {},
   "outputs": [
    {
     "name": "stdout",
     "output_type": "stream",
     "text": [
      "# of observations in training dataset 163189\n",
      "# of observations in validation dataset 53848\n",
      "# of observations in test dataset 61811\n"
     ]
    }
   ],
   "source": [
    "max_training_date = count[count < 0.60].index.max()\n",
    "training_data = df[df['test_date'] <= max_training_date]\n",
    "\n",
    "min_test_date = count[count > 0.80].index.min()\n",
    "test_data = df[df['test_date'] >= min_test_date]\n",
    "\n",
    "valid_data = df[(max_training_date < df['test_date']) & (df['test_date'] < min_test_date)]\n",
    "\n",
    "print(\"# of observations in training dataset\", training_data.shape[0])\n",
    "print(\"# of observations in validation dataset\", valid_data.shape[0])\n",
    "print(\"# of observations in test dataset\", test_data.shape[0])"
   ]
  },
  {
   "cell_type": "code",
   "execution_count": 12,
   "id": "61becbf3",
   "metadata": {},
   "outputs": [
    {
     "name": "stdout",
     "output_type": "stream",
     "text": [
      "*************************  cough  *************************\n",
      "0       121649\n",
      "1        25875\n",
      "0        12177\n",
      "1         3236\n",
      "None       252\n",
      "Name: cough, dtype: int64\n",
      "*************************  fever  *************************\n",
      "0       133942\n",
      "0        13934\n",
      "1        13582\n",
      "1         1479\n",
      "None       252\n",
      "Name: fever, dtype: int64\n",
      "*************************  sore_throat  *************************\n",
      "0       145028\n",
      "0        16257\n",
      "1         1457\n",
      "1          446\n",
      "None         1\n",
      "Name: sore_throat, dtype: int64\n",
      "*************************  shortness_of_breath  *************************\n",
      "0       145438\n",
      "0        16191\n",
      "1         1047\n",
      "1          512\n",
      "None         1\n",
      "Name: shortness_of_breath, dtype: int64\n",
      "*************************  head_ache  *************************\n",
      "0       144446\n",
      "0        16354\n",
      "1         2039\n",
      "1          349\n",
      "None         1\n",
      "Name: head_ache, dtype: int64\n",
      "*************************  age_60_and_above  *************************\n",
      "No      125703\n",
      "Yes      25825\n",
      "None     11661\n",
      "Name: age_60_and_above, dtype: int64\n",
      "*************************  gender  *************************\n",
      "male      73577\n",
      "female    71932\n",
      "None      17680\n",
      "Name: gender, dtype: int64\n",
      "*************************  test_indication  *************************\n",
      "Other                     137171\n",
      "Abroad                     17386\n",
      "Contact with confirmed      8632\n",
      "Name: test_indication, dtype: int64\n"
     ]
    }
   ],
   "source": [
    "INPUT_FEATURES = ['cough', 'fever', 'sore_throat', 'shortness_of_breath', 'head_ache', 'age_60_and_above', 'gender', 'test_indication']\n",
    "TARGET_COLUMN = 'corona_result'\n",
    "\n",
    "for col in INPUT_FEATURES:\n",
    "  print(\"*\"*25, f\" {col} \", \"*\"*25)\n",
    "  print(training_data[col].value_counts())"
   ]
  },
  {
   "cell_type": "code",
   "execution_count": 13,
   "id": "5a4c2940",
   "metadata": {},
   "outputs": [
    {
     "data": {
      "image/png": "[encoded data removed]",
      "text/plain": [
       "<Figure size 576x432 with 1 Axes>"
      ]
     },
     "metadata": {
      "needs_background": "light"
     },
     "output_type": "display_data"
    }
   ],
   "source": [
    "# figure to display gender column\n",
    "import seaborn as sns\n",
    "import warnings\n",
    "\n",
    "warnings.simplefilter(\"ignore\")\n",
    "\n",
    "\n",
    "fig, ax = plt.subplots(figsize=(8,6))\n",
    "sns.countplot(df[\"gender\"]);"
   ]
  },
  {
   "cell_type": "code",
   "execution_count": 14,
   "id": "a3359322",
   "metadata": {},
   "outputs": [
    {
     "data": {
      "image/png": "[encoded data removed]",
      "text/plain": [
       "<Figure size 648x648 with 1 Axes>"
      ]
     },
     "metadata": {},
     "output_type": "display_data"
    }
   ],
   "source": [
    "# disease result\n",
    "labels = ['Malaria', 'COVID']\n",
    "size = df['disease_result'].value_counts()\n",
    "colors = ['lightgreen', 'orange']\n",
    "explode = [0, 0.3]\n",
    "\n",
    "plt.rcParams['figure.figsize'] = (9, 9)\n",
    "plt.pie(size, colors = colors, explode = explode, labels = labels, shadow = True, autopct = '%.2f%%')\n",
    "plt.title('Disease Result', fontsize = 20)\n",
    "plt.axis('off')\n",
    "plt.legend()\n",
    "plt.show()"
   ]
  },
  {
   "cell_type": "code",
   "execution_count": 15,
   "id": "d20e76ca",
   "metadata": {},
   "outputs": [
    {
     "data": {
      "image/png": "[encoded data removed]",
      "text/plain": [
       "<Figure size 576x432 with 1 Axes>"
      ]
     },
     "metadata": {
      "needs_background": "light"
     },
     "output_type": "display_data"
    }
   ],
   "source": [
    "# figure to display age_60_and_above column\n",
    "\n",
    "fig, ax = plt.subplots(figsize=(8,6))\n",
    "sns.countplot(df[\"age_60_and_above\"]);"
   ]
  },
  {
   "cell_type": "code",
   "execution_count": 16,
   "id": "8f17fffc",
   "metadata": {},
   "outputs": [
    {
     "data": {
      "text/plain": [
       "0.0    130158\n",
       "1.0    129127\n",
       "Name: gender, dtype: int64"
      ]
     },
     "execution_count": 16,
     "metadata": {},
     "output_type": "execute_result"
    }
   ],
   "source": [
    "df['gender'] = df['gender'].map({'male': 1, 'female': 0})\n",
    "\n",
    "df['gender'].value_counts()"
   ]
  },
  {
   "cell_type": "code",
   "execution_count": 17,
   "id": "918badfd",
   "metadata": {},
   "outputs": [
    {
     "data": {
      "text/plain": [
       "1    264119\n",
       "0     14729\n",
       "Name: disease_result, dtype: int64"
      ]
     },
     "execution_count": 17,
     "metadata": {},
     "output_type": "execute_result"
    }
   ],
   "source": [
    "#make categorical columns numerical\n",
    "df['corona_result'] = df['corona_result'].map({'positive': 1, 'negative': 0})\n",
    "df['disease_result'] = df['disease_result'].map({'Malaria': 1, 'COVID': 0})\n",
    "\n",
    "df['disease_result'].value_counts()"
   ]
  },
  {
   "cell_type": "code",
   "execution_count": 18,
   "id": "32f6283f",
   "metadata": {},
   "outputs": [],
   "source": [
    "#  Change other and abroad to 0, Contact with confirmed to 1\n",
    "df['test_indication'] = df['test_indication'].map({'Other': 0, 'Abroad': 0, 'Contact with confirmed': 1})"
   ]
  },
  {
   "cell_type": "code",
   "execution_count": 19,
   "id": "cee48ead",
   "metadata": {},
   "outputs": [],
   "source": [
    "df['age_60_and_above'] = df['age_60_and_above'].map({'None': 0, 'No': -1, 'Yes': 1})"
   ]
  },
  {
   "cell_type": "code",
   "execution_count": 20,
   "id": "20d89fd9",
   "metadata": {},
   "outputs": [
    {
     "data": {
      "text/html": [
       "<div>\n",
       "<style scoped>\n",
       "    .dataframe tbody tr th:only-of-type {\n",
       "        vertical-align: middle;\n",
       "    }\n",
       "\n",
       "    .dataframe tbody tr th {\n",
       "        vertical-align: top;\n",
       "    }\n",
       "\n",
       "    .dataframe thead th {\n",
       "        text-align: right;\n",
       "    }\n",
       "</style>\n",
       "<table border=\"1\" class=\"dataframe\">\n",
       "  <thead>\n",
       "    <tr style=\"text-align: right;\">\n",
       "      <th></th>\n",
       "      <th>test_date</th>\n",
       "      <th>cough</th>\n",
       "      <th>fever</th>\n",
       "      <th>sore_throat</th>\n",
       "      <th>shortness_of_breath</th>\n",
       "      <th>head_ache</th>\n",
       "      <th>corona_result</th>\n",
       "      <th>age_60_and_above</th>\n",
       "      <th>gender</th>\n",
       "      <th>test_indication</th>\n",
       "      <th>disease_result</th>\n",
       "    </tr>\n",
       "  </thead>\n",
       "  <tbody>\n",
       "    <tr>\n",
       "      <th>0</th>\n",
       "      <td>2020-04-30</td>\n",
       "      <td>0</td>\n",
       "      <td>0</td>\n",
       "      <td>0</td>\n",
       "      <td>0</td>\n",
       "      <td>0</td>\n",
       "      <td>0.0</td>\n",
       "      <td>0</td>\n",
       "      <td>0.0</td>\n",
       "      <td>0</td>\n",
       "      <td>1</td>\n",
       "    </tr>\n",
       "    <tr>\n",
       "      <th>1</th>\n",
       "      <td>2020-04-30</td>\n",
       "      <td>1</td>\n",
       "      <td>0</td>\n",
       "      <td>0</td>\n",
       "      <td>0</td>\n",
       "      <td>0</td>\n",
       "      <td>0.0</td>\n",
       "      <td>0</td>\n",
       "      <td>0.0</td>\n",
       "      <td>0</td>\n",
       "      <td>1</td>\n",
       "    </tr>\n",
       "    <tr>\n",
       "      <th>2</th>\n",
       "      <td>2020-04-30</td>\n",
       "      <td>0</td>\n",
       "      <td>1</td>\n",
       "      <td>0</td>\n",
       "      <td>0</td>\n",
       "      <td>0</td>\n",
       "      <td>0.0</td>\n",
       "      <td>0</td>\n",
       "      <td>1.0</td>\n",
       "      <td>0</td>\n",
       "      <td>1</td>\n",
       "    </tr>\n",
       "    <tr>\n",
       "      <th>3</th>\n",
       "      <td>2020-04-30</td>\n",
       "      <td>1</td>\n",
       "      <td>0</td>\n",
       "      <td>0</td>\n",
       "      <td>0</td>\n",
       "      <td>0</td>\n",
       "      <td>0.0</td>\n",
       "      <td>0</td>\n",
       "      <td>0.0</td>\n",
       "      <td>0</td>\n",
       "      <td>1</td>\n",
       "    </tr>\n",
       "    <tr>\n",
       "      <th>4</th>\n",
       "      <td>2020-04-30</td>\n",
       "      <td>1</td>\n",
       "      <td>0</td>\n",
       "      <td>0</td>\n",
       "      <td>0</td>\n",
       "      <td>0</td>\n",
       "      <td>0.0</td>\n",
       "      <td>0</td>\n",
       "      <td>1.0</td>\n",
       "      <td>0</td>\n",
       "      <td>1</td>\n",
       "    </tr>\n",
       "  </tbody>\n",
       "</table>\n",
       "</div>"
      ],
      "text/plain": [
       "   test_date cough fever sore_throat shortness_of_breath head_ache  \\\n",
       "0 2020-04-30     0     0           0                   0         0   \n",
       "1 2020-04-30     1     0           0                   0         0   \n",
       "2 2020-04-30     0     1           0                   0         0   \n",
       "3 2020-04-30     1     0           0                   0         0   \n",
       "4 2020-04-30     1     0           0                   0         0   \n",
       "\n",
       "   corona_result  age_60_and_above  gender  test_indication  disease_result  \n",
       "0            0.0                 0     0.0                0               1  \n",
       "1            0.0                 0     0.0                0               1  \n",
       "2            0.0                 0     1.0                0               1  \n",
       "3            0.0                 0     0.0                0               1  \n",
       "4            0.0                 0     1.0                0               1  "
      ]
     },
     "execution_count": 20,
     "metadata": {},
     "output_type": "execute_result"
    }
   ],
   "source": [
    "df.head()"
   ]
  },
  {
   "cell_type": "code",
   "execution_count": 21,
   "id": "b959e54a",
   "metadata": {},
   "outputs": [
    {
     "data": {
      "text/plain": [
       "(255911, 11)"
      ]
     },
     "execution_count": 21,
     "metadata": {},
     "output_type": "execute_result"
    }
   ],
   "source": [
    "df_dropped_ = df.dropna()\n",
    "\n",
    "df_dropped_.shape"
   ]
  },
  {
   "cell_type": "code",
   "execution_count": 22,
   "id": "aa8f5828",
   "metadata": {},
   "outputs": [],
   "source": [
    "df_dropped_.loc[df_dropped_.cough == 'None', 'cough'] = 0\n",
    "df_dropped_.loc[df_dropped_.fever == 'None', 'fever'] = 0"
   ]
  },
  {
   "cell_type": "code",
   "execution_count": 23,
   "id": "4e8eaf01",
   "metadata": {},
   "outputs": [],
   "source": [
    "df_dropped_['cough'] = df_dropped_['cough'].astype(np.int64)\n",
    "df_dropped_['fever'] = df_dropped_['fever'].astype(np.int64)"
   ]
  },
  {
   "cell_type": "code",
   "execution_count": 24,
   "id": "cda4ef60",
   "metadata": {},
   "outputs": [
    {
     "data": {
      "text/plain": [
       " 0    119374\n",
       "-1    112788\n",
       " 1     23749\n",
       "Name: age_60_and_above, dtype: int64"
      ]
     },
     "execution_count": 24,
     "metadata": {},
     "output_type": "execute_result"
    }
   ],
   "source": [
    "df_dropped_[\"age_60_and_above\"].value_counts()"
   ]
  },
  {
   "cell_type": "markdown",
   "id": "7db6eac8",
   "metadata": {},
   "source": [
    "## Train and Test Split"
   ]
  },
  {
   "cell_type": "code",
   "execution_count": 25,
   "id": "a58ecd1a",
   "metadata": {},
   "outputs": [
    {
     "data": {
      "text/html": [
       "<div>\n",
       "<style scoped>\n",
       "    .dataframe tbody tr th:only-of-type {\n",
       "        vertical-align: middle;\n",
       "    }\n",
       "\n",
       "    .dataframe tbody tr th {\n",
       "        vertical-align: top;\n",
       "    }\n",
       "\n",
       "    .dataframe thead th {\n",
       "        text-align: right;\n",
       "    }\n",
       "</style>\n",
       "<table border=\"1\" class=\"dataframe\">\n",
       "  <thead>\n",
       "    <tr style=\"text-align: right;\">\n",
       "      <th></th>\n",
       "      <th>cough</th>\n",
       "      <th>fever</th>\n",
       "      <th>sore_throat</th>\n",
       "      <th>shortness_of_breath</th>\n",
       "      <th>head_ache</th>\n",
       "      <th>age_60_and_above</th>\n",
       "      <th>gender</th>\n",
       "      <th>test_indication</th>\n",
       "    </tr>\n",
       "  </thead>\n",
       "  <tbody>\n",
       "    <tr>\n",
       "      <th>0</th>\n",
       "      <td>0</td>\n",
       "      <td>0</td>\n",
       "      <td>0</td>\n",
       "      <td>0</td>\n",
       "      <td>0</td>\n",
       "      <td>0</td>\n",
       "      <td>0.0</td>\n",
       "      <td>0</td>\n",
       "    </tr>\n",
       "    <tr>\n",
       "      <th>1</th>\n",
       "      <td>1</td>\n",
       "      <td>0</td>\n",
       "      <td>0</td>\n",
       "      <td>0</td>\n",
       "      <td>0</td>\n",
       "      <td>0</td>\n",
       "      <td>0.0</td>\n",
       "      <td>0</td>\n",
       "    </tr>\n",
       "    <tr>\n",
       "      <th>2</th>\n",
       "      <td>0</td>\n",
       "      <td>1</td>\n",
       "      <td>0</td>\n",
       "      <td>0</td>\n",
       "      <td>0</td>\n",
       "      <td>0</td>\n",
       "      <td>1.0</td>\n",
       "      <td>0</td>\n",
       "    </tr>\n",
       "    <tr>\n",
       "      <th>3</th>\n",
       "      <td>1</td>\n",
       "      <td>0</td>\n",
       "      <td>0</td>\n",
       "      <td>0</td>\n",
       "      <td>0</td>\n",
       "      <td>0</td>\n",
       "      <td>0.0</td>\n",
       "      <td>0</td>\n",
       "    </tr>\n",
       "    <tr>\n",
       "      <th>4</th>\n",
       "      <td>1</td>\n",
       "      <td>0</td>\n",
       "      <td>0</td>\n",
       "      <td>0</td>\n",
       "      <td>0</td>\n",
       "      <td>0</td>\n",
       "      <td>1.0</td>\n",
       "      <td>0</td>\n",
       "    </tr>\n",
       "  </tbody>\n",
       "</table>\n",
       "</div>"
      ],
      "text/plain": [
       "   cough  fever sore_throat shortness_of_breath head_ache  age_60_and_above  \\\n",
       "0      0      0           0                   0         0                 0   \n",
       "1      1      0           0                   0         0                 0   \n",
       "2      0      1           0                   0         0                 0   \n",
       "3      1      0           0                   0         0                 0   \n",
       "4      1      0           0                   0         0                 0   \n",
       "\n",
       "   gender  test_indication  \n",
       "0     0.0                0  \n",
       "1     0.0                0  \n",
       "2     1.0                0  \n",
       "3     0.0                0  \n",
       "4     1.0                0  "
      ]
     },
     "execution_count": 25,
     "metadata": {},
     "output_type": "execute_result"
    }
   ],
   "source": [
    "# x data\n",
    "x = df_dropped_.drop(labels = [\"test_date\", \"disease_result\", \"corona_result\"], axis=1)\n",
    "x.head()"
   ]
  },
  {
   "cell_type": "code",
   "execution_count": 26,
   "id": "42aa90f8",
   "metadata": {},
   "outputs": [],
   "source": [
    "# y data\n",
    "y = df_dropped_[\"disease_result\"]"
   ]
  },
  {
   "cell_type": "markdown",
   "id": "e4fb4a55",
   "metadata": {},
   "source": [
    "### Balancing dataset"
   ]
  },
  {
   "cell_type": "code",
   "execution_count": 27,
   "id": "b45ccc69",
   "metadata": {},
   "outputs": [],
   "source": [
    "from imblearn.over_sampling import SMOTE\n",
    "\n",
    "oversample = SMOTE()\n",
    "# X, y = oversample.fit_resample(x, y)"
   ]
  },
  {
   "cell_type": "code",
   "execution_count": 28,
   "id": "de9d0c20",
   "metadata": {},
   "outputs": [],
   "source": [
    "from sklearn.model_selection import train_test_split\n",
    "X_train, X_test, y_train, y_test = train_test_split(x,y,test_size=0.2, random_state=42)"
   ]
  },
  {
   "cell_type": "code",
   "execution_count": 29,
   "id": "e2ed3adc",
   "metadata": {},
   "outputs": [],
   "source": [
    "sm = SMOTE(random_state = 2)\n",
    "X_train, y_train = sm.fit_resample(X_train, y_train.ravel())"
   ]
  },
  {
   "cell_type": "markdown",
   "id": "8d233315",
   "metadata": {},
   "source": [
    "## Prediction"
   ]
  },
  {
   "cell_type": "markdown",
   "id": "d68d258b",
   "metadata": {},
   "source": [
    "#### Fine-tuning classifiers with combination of parameters to get the best hypermater for the provided classifier"
   ]
  },
  {
   "cell_type": "code",
   "execution_count": 30,
   "id": "41212a4e",
   "metadata": {},
   "outputs": [],
   "source": [
    "def params_tuning(model,X_train,y_train,X_test,y_test,metrics,param_grid,clf=False,conf=False):\n",
    "    \"\"\"Tune parameters of the model using a grid search, this function just makes the job easier.\"\"\"\n",
    "    gs=GridSearchCV(model,param_grid=param_grid,scoring=metrics,cv=10)\n",
    "    gs.fit(X_train,y_train)\n",
    "    predicted = gs.predict(X_test)\n",
    "    proba = gs.predict_proba(X_test)[:,1]\n",
    "    if clf == True:\n",
    "        print (classification_report(y_test,predicted))\n",
    "    if conf == True:\n",
    "        print (confusion_matrix(y_test,predicted))\n",
    "    print (gs.best_params_)\n",
    "    print (roc_auc_score(y_test,proba),'Optimised Score')"
   ]
  },
  {
   "cell_type": "markdown",
   "id": "de8e5f5b",
   "metadata": {},
   "source": [
    "### Classifiers:"
   ]
  },
  {
   "cell_type": "markdown",
   "id": "05e239c8",
   "metadata": {},
   "source": [
    "### K Nearest Neighbors"
   ]
  },
  {
   "cell_type": "code",
   "execution_count": null,
   "id": "8f436c9e",
   "metadata": {},
   "outputs": [
    {
     "name": "stdout",
     "output_type": "stream",
     "text": [
      "0.8555481527094841 Initial Score\n"
     ]
    }
   ],
   "source": [
    "knn = KNeighborsClassifier()\n",
    "knn.fit(X_train,y_train)\n",
    "knnp = knn.predict_proba(X_test)\n",
    "print (roc_auc_score(y_test,knnp[:,1]),\"Initial Score\")\n",
    "weight_options = ['uniform','distance']\n",
    "params_grid_knn = dict(n_neighbors = range(1,4) ,weights=weight_options)\n",
    "params_tuning(knn,X_train,y_train,X_test,y_test,'roc_auc',params_grid_knn)"
   ]
  },
  {
   "cell_type": "markdown",
   "id": "5c418357",
   "metadata": {},
   "source": [
    "### Random Forest"
   ]
  },
  {
   "cell_type": "code",
   "execution_count": 40,
   "id": "7698ac38",
   "metadata": {},
   "outputs": [
    {
     "name": "stdout",
     "output_type": "stream",
     "text": [
      "0.8460777117448808 Initial Score\n",
      "{'n_estimators': 15}\n",
      "0.8978798443292498 Optimised Score\n"
     ]
    }
   ],
   "source": [
    "rf = RandomForestClassifier()\n",
    "rf.fit(X_train,y_train)\n",
    "rfpred=rf.predict(X_test)\n",
    "rfp = dict(n_estimators=np.arange(5,25,10))\n",
    "print (roc_auc_score(y_test,rfpred),'Initial Score')\n",
    "params_tuning(rf,X_train,y_train,X_test,y_test,'roc_auc',rfp)"
   ]
  },
  {
   "cell_type": "markdown",
   "id": "44f292fd",
   "metadata": {},
   "source": [
    "### Adaptive Boosting"
   ]
  },
  {
   "cell_type": "code",
   "execution_count": 37,
   "id": "ff1878d6",
   "metadata": {},
   "outputs": [
    {
     "name": "stdout",
     "output_type": "stream",
     "text": [
      "0.8871997361066395 Initial Score\n",
      "              precision    recall  f1-score   support\n",
      "\n",
      "           0       0.41      0.75      0.53      2734\n",
      "           1       0.99      0.94      0.96     48449\n",
      "\n",
      "    accuracy                           0.93     51183\n",
      "   macro avg       0.70      0.84      0.74     51183\n",
      "weighted avg       0.95      0.93      0.94     51183\n",
      "\n",
      "{'learning_rate': 1, 'n_estimators': 75}\n",
      "0.8937817295883334 Optimised Score\n"
     ]
    }
   ],
   "source": [
    "ada = AdaBoostClassifier(algorithm='SAMME')\n",
    "ada.fit(X_train,y_train)\n",
    "adaproba= ada.predict_proba(X_test)\n",
    "print (roc_auc_score(y_test,adaproba[:,1]),'Initial Score')\n",
    "adap = dict(n_estimators=[25,50,75],learning_rate =[0.25,0.5,0.75,1])\n",
    "params_tuning(ada,X_train,y_train,X_test,y_test,'roc_auc',adap,clf=True)"
   ]
  },
  {
   "cell_type": "markdown",
   "id": "76d5f01d",
   "metadata": {},
   "source": [
    "### Logistic Regression"
   ]
  },
  {
   "cell_type": "code",
   "execution_count": 38,
   "id": "78e3f743",
   "metadata": {},
   "outputs": [
    {
     "name": "stdout",
     "output_type": "stream",
     "text": [
      "0.8879159018232023 Inital Score\n"
     ]
    }
   ],
   "source": [
    "logreg = LogisticRegression(random_state=12)\n",
    "logreg.fit(X_train,y_train)\n",
    "logp = logreg.predict_proba(X_test)\n",
    "print (roc_auc_score(y_test,logp[:,1]),\"Inital Score\")\n",
    "# logp = dict(C=np.linspace(0.16,0.2),solver=['newton-cg', 'lbfgs'])\n",
    "# params_tuning(logreg,X_train,y_train,X_test,y_test,'roc_auc',logp,clf=True)"
   ]
  },
  {
   "cell_type": "markdown",
   "id": "856a2388",
   "metadata": {},
   "source": [
    "### Gradient Boosting Classifier"
   ]
  },
  {
   "cell_type": "code",
   "execution_count": 42,
   "id": "d8c2f597",
   "metadata": {},
   "outputs": [
    {
     "name": "stdout",
     "output_type": "stream",
     "text": [
      "0.8979090041711294 Initial Score\n"
     ]
    }
   ],
   "source": [
    "gbr = GradientBoostingClassifier()\n",
    "gbr.fit(X_train,y_train)\n",
    "gbrp = gbr.predict_proba(X_test)\n",
    "print (roc_auc_score(y_test,gbrp[:,1]),'Initial Score')"
   ]
  },
  {
   "cell_type": "markdown",
   "id": "6b2326a9",
   "metadata": {},
   "source": [
    "### Model Performance Comparision"
   ]
  },
  {
   "cell_type": "code",
   "execution_count": 35,
   "id": "298b6a7c",
   "metadata": {},
   "outputs": [
    {
     "name": "stdout",
     "output_type": "stream",
     "text": [
      "                 Model  AUC_Score\n",
      "4    Gradient Boosting   0.897909\n",
      "2        Random Forest   0.897868\n",
      "3    Adaptive Boosting   0.893782\n",
      "1  Logistic Regression   0.887916\n",
      "0          K Neighbors   0.855548\n"
     ]
    }
   ],
   "source": [
    "scores_list= pd.DataFrame(collections.OrderedDict([('Model',['K Neighbors','Logistic Regression','Random Forest','Adaptive Boosting','Gradient Boosting']),('AUC_Score',[0.8555481527094841,0.8879159018232023,0.8978681426451298,0.8937817295883334,0.8979090041711294])])) \n",
    "print (scores_list.sort_values('AUC_Score',ascending=False))"
   ]
  },
  {
   "cell_type": "markdown",
   "id": "c3e6553a",
   "metadata": {},
   "source": [
    "For COVID dataset, after cleaning and pre-processing the data and hypermater traing with various classifiers we observed that Gradient Boosting Classifier classifier gave the best accuracy of 89.79%"
   ]
  },
  {
   "cell_type": "markdown",
   "id": "afe7467f",
   "metadata": {},
   "source": [
    "### Usage of best model to predict"
   ]
  },
  {
   "cell_type": "code",
   "execution_count": 46,
   "id": "57e91418",
   "metadata": {},
   "outputs": [
    {
     "name": "stdout",
     "output_type": "stream",
     "text": [
      "Cough (Yes:1 / No:0): 0\n",
      "Fever (Yes:1 / No:0): 0\n",
      "Sore throat (Yes:1 / No:0): 0\n",
      "Shortness of breath (Yes:1 / No:0): 0\n",
      "Headache (Yes:1 / No:0): 0\n",
      "Gender (male: 1/ female:0): 0\n",
      "Contact with confirmed (Yes:1 / No:0): 0\n",
      "Age 60+ (Yes:1 / No:0): 0\n",
      "\n",
      "The Patient is effected with Malaria\n"
     ]
    }
   ],
   "source": [
    "model = rf\n",
    "cough = int(input('Cough (Yes:1 / No:0): '))\n",
    "fever = int(input('Fever (Yes:1 / No:0): '))\n",
    "sore_throat = int(input('Sore throat (Yes:1 / No:0): '))\n",
    "shortness_of_breath = int(input('Shortness of breath (Yes:1 / No:0): '))\n",
    "headache = int(input('Headache (Yes:1 / No:0): '))\n",
    "gender = int(input('Gender (male: 1/ female:0): '))\n",
    "contact = int(input('Contact with confirmed (Yes:1 / No:0): '))\n",
    "age_60_and_above = int(input('Age 60+ (Yes:1 / No:0): '))\n",
    "\n",
    "predicted = model.predict([[cough, fever, sore_throat, shortness_of_breath, headache, age_60_and_above, gender, contact]])\n",
    "\n",
    "if predicted == 0:\n",
    "    output = 'COVID'\n",
    "else:\n",
    "    output = 'Malaria'\n",
    "\n",
    "print('')\n",
    "print(f'The Patient is effected with {output}')"
   ]
  },
  {
   "cell_type": "code",
   "execution_count": 47,
   "id": "0113f7ff",
   "metadata": {},
   "outputs": [
    {
     "name": "stdout",
     "output_type": "stream",
     "text": [
      "Cough (Yes:1 / No:0): 1\n",
      "Fever (Yes:1 / No:0): 1\n",
      "Sore throat (Yes:1 / No:0): 0\n",
      "Shortness of breath (Yes:1 / No:0): 0\n",
      "Headache (Yes:1 / No:0): 0\n",
      "Gender (male: 1/ female:0): 1\n",
      "Contact with confirmed (Yes:1 / No:0): 1\n",
      "Age 60+ (Yes:1 / No:0): 0\n",
      "\n",
      "The Patient is effected with COVID\n"
     ]
    }
   ],
   "source": [
    "model = rf\n",
    "cough = int(input('Cough (Yes:1 / No:0): '))\n",
    "fever = int(input('Fever (Yes:1 / No:0): '))\n",
    "sore_throat = int(input('Sore throat (Yes:1 / No:0): '))\n",
    "shortness_of_breath = int(input('Shortness of breath (Yes:1 / No:0): '))\n",
    "headache = int(input('Headache (Yes:1 / No:0): '))\n",
    "gender = int(input('Gender (male: 1/ female:0): '))\n",
    "contact = int(input('Contact with confirmed (Yes:1 / No:0): '))\n",
    "age_60_and_above = int(input('Age 60+ (Yes:1 / No:0): '))\n",
    "\n",
    "predicted = model.predict([[cough, fever, sore_throat, shortness_of_breath, headache, age_60_and_above, gender, contact]])\n",
    "\n",
    "if predicted == 0:\n",
    "    output = 'COVID'\n",
    "else:\n",
    "    output = 'Malaria'\n",
    "\n",
    "print('')\n",
    "print(f'The Patient is effected with {output}')"
   ]
  },
  {
   "cell_type": "code",
   "execution_count": null,
   "id": "f5c99708",
   "metadata": {},
   "outputs": [],
   "source": []
  }
 ],
 "metadata": {
  "kernelspec": {
   "display_name": "Python 3",
   "language": "python",
   "name": "python3"
  },
  "language_info": {
   "codemirror_mode": {
    "name": "ipython",
    "version": 3
   },
   "file_extension": ".py",
   "mimetype": "text/x-python",
   "name": "python",
   "nbconvert_exporter": "python",
   "pygments_lexer": "ipython3",
   "version": "3.8.10"
  }
 },
 "nbformat": 4,
 "nbformat_minor": 5
}
